{
 "cells": [
  {
   "cell_type": "code",
   "execution_count": 17,
   "metadata": {},
   "outputs": [
    {
     "name": "stdout",
     "output_type": "stream",
     "text": [
      "Sua idade é: \n"
     ]
    }
   ],
   "source": [
    "idade = input(\"Digite um numero: \")\n",
    "print(f\"Sua idade é: {idade}\")"
   ]
  },
  {
   "cell_type": "code",
   "execution_count": 1,
   "metadata": {},
   "outputs": [
    {
     "name": "stdout",
     "output_type": "stream",
     "text": [
      "o ph medido foi 5.8\n"
     ]
    }
   ],
   "source": [
    "ph = float(input(\"qual o ph do solo :\"))\n",
    "print(\"o ph medido foi\", ph)"
   ]
  },
  {
   "cell_type": "code",
   "execution_count": null,
   "metadata": {},
   "outputs": [
    {
     "name": "stdout",
     "output_type": "stream",
     "text": [
      "14\n"
     ]
    }
   ],
   "source": [
    "a = input(\"Digite um nome\")\n",
    "print(a)"
   ]
  },
  {
   "cell_type": "code",
   "execution_count": null,
   "metadata": {},
   "outputs": [
    {
     "name": "stdout",
     "output_type": "stream",
     "text": [
      "14\n"
     ]
    }
   ],
   "source": [
    "maiuscula = a.upper()\n",
    "print(maiuscula)"
   ]
  },
  {
   "cell_type": "code",
   "execution_count": null,
   "metadata": {},
   "outputs": [
    {
     "name": "stdout",
     "output_type": "stream",
     "text": [
      "14\n"
     ]
    }
   ],
   "source": [
    "minuscula = maiuscula.lower()\n",
    "print(minuscula)"
   ]
  },
  {
   "cell_type": "code",
   "execution_count": null,
   "metadata": {},
   "outputs": [
    {
     "name": "stdout",
     "output_type": "stream",
     "text": [
      "14\n"
     ]
    }
   ],
   "source": [
    "capital = a.capitalize()\n",
    "print(capital)"
   ]
  },
  {
   "cell_type": "code",
   "execution_count": null,
   "metadata": {},
   "outputs": [
    {
     "name": "stdout",
     "output_type": "stream",
     "text": [
      "14\n"
     ]
    }
   ],
   "source": [
    "metade_palavra = a[0:7]\n",
    "print(metade_palavra)"
   ]
  },
  {
   "cell_type": "code",
   "execution_count": null,
   "metadata": {},
   "outputs": [
    {
     "name": "stdout",
     "output_type": "stream",
     "text": [
      "\n"
     ]
    }
   ],
   "source": [
    "ultimas_letras = a[3:]\n",
    "print(ultimas_letras)"
   ]
  },
  {
   "cell_type": "code",
   "execution_count": null,
   "metadata": {},
   "outputs": [
    {
     "name": "stdout",
     "output_type": "stream",
     "text": [
      "14\n"
     ]
    }
   ],
   "source": [
    "b = a.replace(\"edro\" , \"linha\")\n",
    "print(b)"
   ]
  },
  {
   "cell_type": "code",
   "execution_count": null,
   "metadata": {},
   "outputs": [
    {
     "data": {
      "text/plain": [
       "-1"
      ]
     },
     "execution_count": 27,
     "metadata": {},
     "output_type": "execute_result"
    }
   ],
   "source": [
    "b.find(\"i\")"
   ]
  },
  {
   "cell_type": "code",
   "execution_count": null,
   "metadata": {},
   "outputs": [
    {
     "name": "stdout",
     "output_type": "stream",
     "text": [
      "8\n"
     ]
    }
   ],
   "source": [
    "e = \" casaco \"\n",
    "print(len(e))"
   ]
  },
  {
   "cell_type": "code",
   "execution_count": null,
   "metadata": {},
   "outputs": [
    {
     "name": "stdout",
     "output_type": "stream",
     "text": [
      "casaco\n"
     ]
    }
   ],
   "source": [
    "f = e.strip()\n",
    "print(f)"
   ]
  },
  {
   "cell_type": "code",
   "execution_count": null,
   "metadata": {},
   "outputs": [],
   "source": [
    "n1 = 12\n",
    "n2 = 14"
   ]
  },
  {
   "cell_type": "code",
   "execution_count": null,
   "metadata": {},
   "outputs": [
    {
     "name": "stdout",
     "output_type": "stream",
     "text": [
      "dividindo 12 por 14 o resultado é 0.8571428571428571\n"
     ]
    }
   ],
   "source": [
    "print(f\"dividindo {n1} por {n2} o resultado é {n1/n2}\")"
   ]
  },
  {
   "cell_type": "code",
   "execution_count": null,
   "metadata": {},
   "outputs": [
    {
     "data": {
      "text/plain": [
       "9.0"
      ]
     },
     "execution_count": 32,
     "metadata": {},
     "output_type": "execute_result"
    }
   ],
   "source": [
    "import math\n",
    "\n",
    "math.sqrt(81)"
   ]
  },
  {
   "cell_type": "code",
   "execution_count": null,
   "metadata": {},
   "outputs": [
    {
     "name": "stdout",
     "output_type": "stream",
     "text": [
      "O resultado da adição é: 28\n",
      "O resultado da subtração é: 0 \n",
      "O resultado da multiplicação é: 196\n",
      "O resultado da divisão é: 1.0\n",
      "O resultado da potenciação é: 11112006825558016\n"
     ]
    }
   ],
   "source": [
    "n1 = int(input(\"Digite um numero: \"))\n",
    "n2 = int(input(\"Digite outro numero: \"))\n",
    "a = n1 + n2\n",
    "s = n1 - n2\n",
    "m = n1 * n2\n",
    "d = n1 / n2\n",
    "p = n1 ** n2\n",
    "print(f'''O resultado da adição é: {a}\n",
    "O resultado da subtração é: {s} \n",
    "O resultado da multiplicação é: {m}\n",
    "O resultado da divisão é: {d}\n",
    "O resultado da potenciação é: {p}''')"
   ]
  },
  {
   "cell_type": "code",
   "execution_count": null,
   "metadata": {},
   "outputs": [
    {
     "name": "stdout",
     "output_type": "stream",
     "text": [
      "196.0\n"
     ]
    }
   ],
   "source": [
    "t = float(input(\"Tempo gasto na viagem: \"))\n",
    "vm = float(input(\"Velocidade média da corrida: \"))\n",
    "d = vm * t\n",
    "print(d)\n"
   ]
  },
  {
   "cell_type": "code",
   "execution_count": null,
   "metadata": {},
   "outputs": [
    {
     "name": "stdout",
     "output_type": "stream",
     "text": [
      "Criança\n",
      "Adulto\n"
     ]
    }
   ],
   "source": [
    "I = int(input(\"digite sua idade: \"))\n",
    "if I >= 0 and I <= 12:\n",
    "    print(\"Criança\")\n",
    "elif I >= 13 and I <= 17:\n",
    "    print(\"Adolescente\")\n",
    "else: I >= 18\n",
    "print(\"Adulto\")\n",
    "\n",
    "    "
   ]
  },
  {
   "cell_type": "code",
   "execution_count": null,
   "metadata": {},
   "outputs": [
    {
     "name": "stdout",
     "output_type": "stream",
     "text": [
      "Adolescente\n",
      "Adulto\n",
      "Criança\n",
      "Adolescente\n",
      "Criança\n",
      "Adolescente\n",
      "Criança\n",
      "Adolescente\n",
      "Criança\n",
      "Adolescente\n",
      "Criança\n",
      "Adolescente\n",
      "Adolescente\n",
      "Adulto\n",
      "Adolescente\n",
      "Adulto\n",
      "Adolescente\n",
      "Adulto\n"
     ]
    }
   ],
   "source": [
    "while True:\n",
    "    I = int(input(\"digite sua idade e digite -1 para sair: \"))\n",
    "    if I < 0:\n",
    "        break\n",
    "    print(\"numero invalido\")\n",
    "    if I >= 0 and I <= 12:\n",
    "        print(\"Criança\")\n",
    "    else: I >= 13 and I <= 17\n",
    "    print(\"Adolescente\")\n",
    "\n",
    "    if I >= 18:\n",
    "        print(\"Adulto\")"
   ]
  },
  {
   "cell_type": "code",
   "execution_count": null,
   "metadata": {},
   "outputs": [],
   "source": [
    "N1 = float(input(\"digite a nota 1: \"))\n",
    "N2 = float(input(\"digite a nota 2: \"))\n",
    "N3 = float(input(\"digite a nota 3: \"))\n",
    "m = (N1 + N2 + N3) / 3\n",
    "if m >= 0 and m <= 4.0:\n",
    "    print(\"Reprovado\")\n",
    "else: m >= 4.1 and m <= 6.0\n",
    "print(\"Recuperação\")\n",
    "if m < 6.0:\n",
    "    print(\"aprovado\")"
   ]
  },
  {
   "cell_type": "code",
   "execution_count": 21,
   "metadata": {},
   "outputs": [
    {
     "name": "stdout",
     "output_type": "stream",
     "text": [
      "10\n",
      "11\n",
      "13\n",
      "16\n",
      "20\n",
      "25\n",
      "31\n",
      "38\n",
      "46\n",
      "55\n"
     ]
    }
   ],
   "source": [
    "s = 10\n",
    "for i in range (10):\n",
    "     s += i\n",
    "     print(s)\n"
   ]
  },
  {
   "cell_type": "code",
   "execution_count": 48,
   "metadata": {},
   "outputs": [
    {
     "data": {
      "text/plain": [
       "55"
      ]
     },
     "execution_count": 48,
     "metadata": {},
     "output_type": "execute_result"
    }
   ],
   "source": [
    "def soma1(n):\n",
    "    soma = 0\n",
    "    for i in range(n + 1):\n",
    "        soma += i\n",
    "    \n",
    "    return soma\n",
    "soma1(10)"
   ]
  },
  {
   "cell_type": "code",
   "execution_count": 49,
   "metadata": {},
   "outputs": [
    {
     "name": "stdout",
     "output_type": "stream",
     "text": [
      "202 ns ± 2.26 ns per loop (mean ± std. dev. of 7 runs, 10,000,000 loops each)\n"
     ]
    }
   ],
   "source": [
    "%timeit soma1(10)"
   ]
  },
  {
   "cell_type": "code",
   "execution_count": 43,
   "metadata": {},
   "outputs": [
    {
     "data": {
      "text/plain": [
       "55.0"
      ]
     },
     "execution_count": 43,
     "metadata": {},
     "output_type": "execute_result"
    }
   ],
   "source": [
    "def soma2(n):\n",
    "    return (n * (n+1)) / 2\n",
    "\n",
    "\n",
    "soma2(10)"
   ]
  },
  {
   "cell_type": "code",
   "execution_count": 54,
   "metadata": {},
   "outputs": [
    {
     "name": "stdout",
     "output_type": "stream",
     "text": [
      "51 ns ± 0.558 ns per loop (mean ± std. dev. of 7 runs, 10,000,000 loops each)\n"
     ]
    }
   ],
   "source": [
    "%timeit soma2(1000)"
   ]
  },
  {
   "cell_type": "code",
   "execution_count": null,
   "metadata": {},
   "outputs": [],
   "source": [
    "def lista1():\n",
    "    lista = []\n",
    "    for i in range(1, 1001):\n",
    "        lista += [i]\n",
    "    return lista\n"
   ]
  },
  {
   "cell_type": "code",
   "execution_count": 1,
   "metadata": {},
   "outputs": [
    {
     "name": "stdout",
     "output_type": "stream",
     "text": [
      "A idade é 24 anos.\n"
     ]
    }
   ],
   "source": [
    "\n",
    "def calcular_idade(ano_nascimento, ano_atual): \n",
    "    return ano_atual - ano_nascimento \n",
    " \n",
    "nascimento = int(input(\"Digite o ano de nascimento: \")) \n",
    "atual = int(input(\"Digite o ano atual: \")) \n",
    "idade = calcular_idade(nascimento, atual) \n",
    "print(f\"A idade é {idade} anos.\") "
   ]
  },
  {
   "cell_type": "code",
   "execution_count": 23,
   "metadata": {},
   "outputs": [
    {
     "data": {
      "text/plain": [
       "5"
      ]
     },
     "execution_count": 23,
     "metadata": {},
     "output_type": "execute_result"
    }
   ],
   "source": [
    "def soma(a, b):\n",
    "    return a + b\n",
    "\n",
    "\n",
    "soma(8, 9)\n",
    "soma(5, 0)\n",
    " "
   ]
  }
 ],
 "metadata": {
  "kernelspec": {
   "display_name": "venv",
   "language": "python",
   "name": "python3"
  },
  "language_info": {
   "codemirror_mode": {
    "name": "ipython",
    "version": 3
   },
   "file_extension": ".py",
   "mimetype": "text/x-python",
   "name": "python",
   "nbconvert_exporter": "python",
   "pygments_lexer": "ipython3",
   "version": "3.12.10"
  }
 },
 "nbformat": 4,
 "nbformat_minor": 2
}
