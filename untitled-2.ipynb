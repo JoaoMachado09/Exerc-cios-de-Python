{
 "cells": [
  {
   "cell_type": "code",
   "execution_count": 111,
   "id": "8116bfaa",
   "metadata": {},
   "outputs": [],
   "source": [
    "import numpy as np"
   ]
  },
  {
   "cell_type": "code",
   "execution_count": 126,
   "id": "b48717df",
   "metadata": {},
   "outputs": [],
   "source": [
    "class VetorNaoOrdenado:\n",
    "    def __init__(self, capacidade): #metodo construtor\n",
    "        self.capacidade = capacidade #atributo\n",
    "        self.ultima_posicao = -1#atributo\n",
    "        self.valores = np.empty(\n",
    "            self.capacidade, dtype=int\n",
    "        )#array vario pelo .empty (self.capacidade será o shape e será criado de acordo com oque o usuario passar como parametro). dtype=int = typo inteiro\n",
    "\n",
    "    def imprime(self): #imprime os valores do vetor (array)\n",
    "        if self.ultima_posicao == -1: # se o array estiver vazio\n",
    "            print(\"O vetor está vazio\")\n",
    "        else:\n",
    "            for i in range(\n",
    "                self.ultima_posicao +1\n",
    "            ): #percorre o array de acordo com a quantidade de elementos\n",
    "                print(i, \" - \", self.valores[i])#imprime o valor\n",
    "    #O(1) - O(2)\n",
    "    def insere(self, valor): #insere um valor no array\n",
    "        if(\n",
    "            self.ultima_posicao == self.capacidade - 1\n",
    "        ): # se o array estiver cheio (ultima_posicao = capacidade - 1)\n",
    "            print(\"Capacidade máxima atingida\")\n",
    "        else: # se o array nao estiver cheio\n",
    "            self.ultima_posicao += 1 # incrementa a ultima_posicao\n",
    "            self.valores[self.ultima_posicao] = valor #adiciona o valor\n",
    "\n",
    "    #O(n)\n",
    "    def pesquisar(\n",
    "            self, valor\n",
    "    ):#pesquisa um valor no array.UTILIZAREMOS A PESQUISA LINEAR\n",
    "        for i in range(self.ultima_posicao + 1):#PERCORRE O ARRAY\n",
    "            if valor == self.valores[1]:#SE O VALOR FOR IGUAL AO VALOR DO ARRAY\n",
    "                return i#retorna a posicao\n",
    "        return -1#se o valor nao for encontrado\n",
    "    \n",
    "    #O(n)\n",
    "    def excluir(self, valor): #exclui um valor no array\n",
    "        posicao = self.pesquisar(valor)\n",
    "        if posicao == -1:#se o valor nao for encontrado\n",
    "            return -1\n",
    "        else:#se o valor for encontrado\n",
    "            for i in range(\n",
    "                posicao, self.ultima_posicao\n",
    "            ):#percorre o array de acordo com a quantidade de elementos\n",
    "                self.valores[i] = self.valores [i + 1]#substitui o valor\n",
    "            self.ultima_posicao -= 1# decrementa a ultima_poscao"
   ]
  },
  {
   "cell_type": "code",
   "execution_count": 127,
   "id": "e91b6430",
   "metadata": {},
   "outputs": [],
   "source": [
    "vetor = VetorNaoOrdenado(5)"
   ]
  },
  {
   "cell_type": "code",
   "execution_count": 128,
   "id": "9a28a0ae",
   "metadata": {},
   "outputs": [
    {
     "name": "stdout",
     "output_type": "stream",
     "text": [
      "O vetor está vazio\n"
     ]
    }
   ],
   "source": [
    "vetor.imprime()"
   ]
  },
  {
   "cell_type": "code",
   "execution_count": 129,
   "id": "a841e8bf",
   "metadata": {},
   "outputs": [],
   "source": [
    "vetor.insere(2)"
   ]
  },
  {
   "cell_type": "code",
   "execution_count": 134,
   "id": "fec4e1f7",
   "metadata": {},
   "outputs": [
    {
     "name": "stdout",
     "output_type": "stream",
     "text": [
      "0  -  2\n",
      "1  -  3\n",
      "2  -  5\n",
      "3  -  3\n",
      "4  -  5\n"
     ]
    }
   ],
   "source": [
    "vetor.imprime()"
   ]
  },
  {
   "cell_type": "code",
   "execution_count": 137,
   "id": "0255d3d3",
   "metadata": {},
   "outputs": [
    {
     "name": "stdout",
     "output_type": "stream",
     "text": [
      "Capacidade máxima atingida\n",
      "Capacidade máxima atingida\n",
      "Capacidade máxima atingida\n",
      "Capacidade máxima atingida\n"
     ]
    }
   ],
   "source": [
    "vetor.insere(3)\n",
    "vetor.insere(5)\n",
    "vetor.insere(8)\n",
    "vetor.insere(1)"
   ]
  },
  {
   "cell_type": "code",
   "execution_count": 135,
   "id": "a449cd4a",
   "metadata": {},
   "outputs": [
    {
     "name": "stdout",
     "output_type": "stream",
     "text": [
      "0  -  2\n",
      "1  -  3\n",
      "2  -  5\n",
      "3  -  3\n",
      "4  -  5\n"
     ]
    }
   ],
   "source": [
    "vetor.imprime()"
   ]
  }
 ],
 "metadata": {
  "kernelspec": {
   "display_name": "venv",
   "language": "python",
   "name": "python3"
  },
  "language_info": {
   "codemirror_mode": {
    "name": "ipython",
    "version": 3
   },
   "file_extension": ".py",
   "mimetype": "text/x-python",
   "name": "python",
   "nbconvert_exporter": "python",
   "pygments_lexer": "ipython3",
   "version": "3.12.9"
  }
 },
 "nbformat": 4,
 "nbformat_minor": 5
}
